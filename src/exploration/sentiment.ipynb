{
 "cells": [
  {
   "cell_type": "markdown",
   "metadata": {
    "colab_type": "text",
    "id": "view-in-github"
   },
   "source": [
    "<a href=\"https://colab.research.google.com/github/JRasmusBm/chatbot-epsilon/blob/master/Trainer.ipynb\" target=\"_parent\"><img src=\"https://colab.research.google.com/assets/colab-badge.svg\" alt=\"Open In Colab\"/></a>"
   ]
  },
  {
   "cell_type": "markdown",
   "metadata": {
    "colab_type": "text",
    "id": "KeH8Jy3iGkzs"
   },
   "source": [
    "# This is the file in which we perform training of the NN"
   ]
  },
  {
   "cell_type": "markdown",
   "metadata": {
    "colab_type": "text",
    "id": "jWjzaSJz2rZp"
   },
   "source": [
    "# Load Data"
   ]
  },
  {
   "cell_type": "markdown",
   "metadata": {},
   "source": [
    "## In Colab"
   ]
  },
  {
   "cell_type": "code",
   "execution_count": 1,
   "metadata": {
    "colab": {},
    "colab_type": "code",
    "id": "6xZh6wQA2vGf"
   },
   "outputs": [],
   "source": [
    "#from google.colab import files\n",
    "#uploaded = files.upload()\n",
    "#file_name = \"amazon_cells_labelled.txt\"\n",
    "#uploaded[file_name].decode(\"utf-8\")"
   ]
  },
  {
   "cell_type": "markdown",
   "metadata": {
    "colab": {},
    "colab_type": "code",
    "id": "yXm_r12d2wCw"
   },
   "source": [
    "## Locally"
   ]
  },
  {
   "cell_type": "code",
   "execution_count": 2,
   "metadata": {},
   "outputs": [],
   "source": [
    "file_name = \"../../data/amazon_cells_labelled.txt\""
   ]
  },
  {
   "cell_type": "markdown",
   "metadata": {
    "colab_type": "text",
    "id": "GIhLVvpw3HiD"
   },
   "source": [
    "# Import code (from TA)"
   ]
  },
  {
   "cell_type": "code",
   "execution_count": 36,
   "metadata": {},
   "outputs": [],
   "source": [
    "from pprint import pprint"
   ]
  },
  {
   "cell_type": "code",
   "execution_count": 3,
   "metadata": {
    "colab": {},
    "colab_type": "code",
    "id": "AAbfYsRd3VaL"
   },
   "outputs": [
    {
     "name": "stderr",
     "output_type": "stream",
     "text": [
      "[nltk_data] Downloading package punkt to /home/rasmus/nltk_data...\n",
      "[nltk_data]   Package punkt is already up-to-date!\n",
      "[nltk_data] Downloading package stopwords to /home/rasmus/nltk_data...\n",
      "[nltk_data]   Package stopwords is already up-to-date!\n"
     ]
    },
    {
     "data": {
      "text/plain": [
       "True"
      ]
     },
     "execution_count": 3,
     "metadata": {},
     "output_type": "execute_result"
    }
   ],
   "source": [
    "import torch\n",
    "import torch.nn as nn\n",
    "import torch.optim as optim\n",
    "import torch.nn.functional as F\n",
    "from torch.utils.data import TensorDataset, DataLoader\n",
    "import numpy as np\n",
    "from matplotlib import pyplot\n",
    "import pandas as pd\n",
    "from sklearn.model_selection import train_test_split\n",
    "from sklearn.feature_extraction.text import TfidfVectorizer\n",
    "import nltk\n",
    "from nltk.corpus import stopwords\n",
    "from nltk import word_tokenize\n",
    "from sklearn.metrics import accuracy_score, confusion_matrix, precision_score, recall_score, classification_report\n",
    "nltk.download('punkt')\n",
    "nltk.download('stopwords')"
   ]
  },
  {
   "cell_type": "code",
   "execution_count": 4,
   "metadata": {
    "colab": {},
    "colab_type": "code",
    "id": "XKF-Qfr63DG3"
   },
   "outputs": [],
   "source": [
    "def preprocess_pandas(data, columns):\n",
    "    df_ = pd.DataFrame(columns=columns)\n",
    "    data['Sentence'] = data['Sentence'].str.lower()\n",
    "    data['Sentence'] = data['Sentence'].replace('[a-zA-Z0-9-_.]+@[a-zA-Z0-9-_.]+', '', regex=True)                      # remove emails\n",
    "    data['Sentence'] = data['Sentence'].replace('((25[0-5]|2[0-4][0-9]|[01]?[0-9][0-9]?)(\\.|$)){4}', '', regex=True)    # remove IP address\n",
    "    data['Sentence'] = data['Sentence'].str.replace('[^\\w\\s]','')                                                       # remove special characters\n",
    "    data['Sentence'] = data['Sentence'].replace('\\d', '', regex=True)                                                   # remove numbers\n",
    "    for index, row in data.iterrows():\n",
    "        word_tokens = word_tokenize(row['Sentence'])\n",
    "        filtered_sent = [w for w in word_tokens if not w in stopwords.words('english')]\n",
    "        df_ = df_.append({\n",
    "            \"index\": row['index'],\n",
    "            \"Class\": row['Class'],\n",
    "            \"Sentence\": \" \".join(filtered_sent[0:])\n",
    "        }, ignore_index=True)\n",
    "    return data\n",
    "\n",
    "# If this is the primary file that is executed (ie not an import of another file)\n",
    "if __name__ == \"__main__\":\n",
    "    # get data, pre-process and split\n",
    "    data = pd.read_csv(file_name, delimiter='\\t', header=None)\n",
    "    data.columns = ['Sentence', 'Class']\n",
    "    data['index'] = data.index                                          # add new column index\n",
    "    columns = ['index', 'Class', 'Sentence']\n",
    "    data = preprocess_pandas(data, columns)                             # pre-process\n",
    "    training_data, validation_data, training_labels, validation_labels = train_test_split( # split the data into training, validation, and test splits\n",
    "        data['Sentence'].values.astype('U'),\n",
    "        data['Class'].values.astype('int32'),\n",
    "        test_size=0.10,\n",
    "        random_state=0,\n",
    "        shuffle=True\n",
    "    )\n",
    "\n",
    "    # vectorize data using TFIDF and transform for PyTorch for scalability\n",
    "    word_vectorizer = TfidfVectorizer(analyzer='word', ngram_range=(1,2), max_features=50000, max_df=0.5, use_idf=True, norm='l2')\n",
    "    training_data = word_vectorizer.fit_transform(training_data)        # transform texts to sparse matrix\n",
    "    training_data = training_data.todense()                             # convert to dense matrix for Pytorch\n",
    "    vocab_size = len(word_vectorizer.vocabulary_)\n",
    "    validation_data = word_vectorizer.transform(validation_data)\n",
    "    validation_data = validation_data.todense()\n",
    "    train_x_tensor = torch.from_numpy(np.array(training_data)).type(torch.FloatTensor)\n",
    "    train_y_tensor = torch.from_numpy(np.array(training_labels)).long()\n",
    "    validation_x_tensor = torch.from_numpy(np.array(validation_data)).type(torch.FloatTensor)\n",
    "    validation_y_tensor = torch.from_numpy(np.array(validation_labels)).long()"
   ]
  },
  {
   "cell_type": "code",
   "execution_count": 5,
   "metadata": {
    "colab": {},
    "colab_type": "code",
    "id": "rhYlj6cM5YQD"
   },
   "outputs": [
    {
     "data": {
      "text/html": [
       "<div>\n",
       "<style scoped>\n",
       "    .dataframe tbody tr th:only-of-type {\n",
       "        vertical-align: middle;\n",
       "    }\n",
       "\n",
       "    .dataframe tbody tr th {\n",
       "        vertical-align: top;\n",
       "    }\n",
       "\n",
       "    .dataframe thead th {\n",
       "        text-align: right;\n",
       "    }\n",
       "</style>\n",
       "<table border=\"1\" class=\"dataframe\">\n",
       "  <thead>\n",
       "    <tr style=\"text-align: right;\">\n",
       "      <th></th>\n",
       "      <th>Sentence</th>\n",
       "      <th>Class</th>\n",
       "      <th>index</th>\n",
       "    </tr>\n",
       "  </thead>\n",
       "  <tbody>\n",
       "    <tr>\n",
       "      <th>0</th>\n",
       "      <td>so there is no way for me to plug it in here i...</td>\n",
       "      <td>0</td>\n",
       "      <td>0</td>\n",
       "    </tr>\n",
       "    <tr>\n",
       "      <th>1</th>\n",
       "      <td>good case excellent value</td>\n",
       "      <td>1</td>\n",
       "      <td>1</td>\n",
       "    </tr>\n",
       "    <tr>\n",
       "      <th>2</th>\n",
       "      <td>great for the jawbone</td>\n",
       "      <td>1</td>\n",
       "      <td>2</td>\n",
       "    </tr>\n",
       "    <tr>\n",
       "      <th>3</th>\n",
       "      <td>tied to charger for conversations lasting more...</td>\n",
       "      <td>0</td>\n",
       "      <td>3</td>\n",
       "    </tr>\n",
       "    <tr>\n",
       "      <th>4</th>\n",
       "      <td>the mic is great</td>\n",
       "      <td>1</td>\n",
       "      <td>4</td>\n",
       "    </tr>\n",
       "  </tbody>\n",
       "</table>\n",
       "</div>"
      ],
      "text/plain": [
       "                                            Sentence  Class  index\n",
       "0  so there is no way for me to plug it in here i...      0      0\n",
       "1                          good case excellent value      1      1\n",
       "2                              great for the jawbone      1      2\n",
       "3  tied to charger for conversations lasting more...      0      3\n",
       "4                                   the mic is great      1      4"
      ]
     },
     "execution_count": 5,
     "metadata": {},
     "output_type": "execute_result"
    }
   ],
   "source": [
    "data.head()"
   ]
  },
  {
   "cell_type": "code",
   "execution_count": 52,
   "metadata": {
    "colab": {},
    "colab_type": "code",
    "id": "6ee0vwQO5Zby"
   },
   "outputs": [
    {
     "name": "stdout",
     "output_type": "stream",
     "text": [
      "Sentences: 1000\n",
      "Words: 10118\n",
      "Unique Words: 1856\n",
      "[('the', 513), ('i', 316), ('and', 310), ('it', 281), ('is', 243), ('a', 218), ('this', 206), ('to', 196), ('phone', 162), ('my', 143), ('for', 121), ('of', 120), ('not', 117), ('with', 112), ('very', 103), ('great', 97), ('was', 90), ('on', 89), ('in', 88), ('that', 80), ('good', 77), ('have', 73), ('you', 68), ('product', 55), ('quality', 49), ('had', 48), ('headset', 47), ('works', 47), ('but', 46), ('battery', 45), ('as', 45), ('its', 43), ('so', 42), ('are', 42), ('sound', 41), ('all', 41), ('use', 41), ('one', 40), ('well', 38), ('ear', 35), ('has', 34), ('would', 34), ('work', 34), ('from', 33), ('your', 32), ('dont', 31), ('like', 30), ('case', 29), ('if', 29), ('me', 28), ('than', 28), ('be', 28), ('ive', 28), ('excellent', 27), ('time', 27), ('after', 27), ('price', 27), ('no', 26), ('up', 26), ('recommend', 26), ('does', 26), ('really', 26), ('at', 24), ('im', 24), ('or', 23), ('best', 23), ('service', 23), ('get', 22), ('when', 22), ('out', 22), ('nice', 22), ('only', 22), ('also', 22), ('too', 21), ('just', 21), ('any', 20), ('new', 20), ('love', 20), ('these', 20), ('worked', 20), ('am', 20), ('charger', 19), ('more', 19), ('money', 19), ('do', 19), ('can', 19), ('buy', 19), ('item', 19), ('better', 19), ('an', 19), ('ever', 19), ('car', 18), ('about', 18), ('even', 18), ('because', 18), ('then', 17), ('what', 17), ('comfortable', 17), ('bought', 17), ('now', 17), ('first', 17), ('bluetooth', 17), ('they', 17), ('easy', 17), ('could', 16), ('doesnt', 16), ('did', 16), ('used', 16), ('poor', 15), ('been', 15), ('happy', 15), ('which', 15), ('will', 15), ('reception', 15), ('there', 14), ('waste', 14), ('two', 14), ('made', 14), ('still', 14), ('off', 14), ('bad', 14), ('purchase', 14), ('few', 14), ('cell', 14), ('while', 14), ('worst', 14), ('them', 13), ('far', 13), ('charge', 13), ('fine', 13), ('calls', 13), ('enough', 13), ('thing', 13), ('device', 13), ('piece', 13), ('got', 13), ('same', 13), ('problems', 12), ('right', 12), ('volume', 12), ('long', 12), ('again', 12), ('problem', 12), ('hear', 12), ('make', 12), ('life', 12), ('camera', 12), ('clear', 12), ('phones', 12), ('much', 12), ('using', 12), ('fit', 12), ('plug', 11), ('design', 11), ('makes', 11), ('couldnt', 11), ('other', 11), ('working', 11), ('motorola', 11), ('fits', 11), ('into', 10), ('think', 10), ('people', 10), ('disappointed', 10), ('looks', 10), ('call', 10), ('over', 10), ('terrible', 10), ('impressed', 9), ('highly', 9), ('how', 9), ('days', 9), ('months', 9), ('pretty', 9), ('everything', 9), ('cool', 9), ('wear', 9), ('lot', 9), ('jabra', 9), ('screen', 9), ('cheap', 9), ('customer', 9), ('low', 9), ('amazon', 9), ('by', 8), ('last', 8), ('without', 8), ('talk', 8), ('little', 8), ('years', 8), ('never', 8), ('their', 8), ('verizon', 8), ('buttons', 8), ('headsets', 8), ('broke', 8), ('found', 8), ('tried', 8), ('light', 8), ('small', 8), ('voice', 8), ('look', 8), ('being', 8), ('back', 8), ('horrible', 8), ('year', 8), ('junk', 8), ('unit', 8), ('however', 8), ('way', 7), ('several', 7), ('say', 7), ('went', 7), ('most', 7), ('didnt', 7), ('audio', 7), ('dropped', 7), ('we', 7), ('since', 7), ('big', 7), ('gets', 7), ('down', 7), ('both', 7), ('completely', 7), ('software', 7), ('some', 7), ('useless', 7), ('company', 7), ('nokia', 7), ('quite', 7), ('cant', 7), ('looking', 7), ('take', 7), ('go', 6), ('going', 6), ('simple', 6), ('ears', 6), ('need', 6), ('picture', 6), ('want', 6), ('loud', 6), ('end', 6), ('headphones', 6), ('find', 6), ('within', 6), ('received', 6), ('black', 6), ('around', 6), ('signal', 6), ('perfectly', 6), ('internet', 6), ('less', 6), ('put', 6), ('every', 6), ('stay', 6), ('before', 6), ('cable', 6), ('real', 6), ('came', 6), ('anyone', 6), ('difficult', 6), ('value', 5), ('razr', 5), ('original', 5), ('started', 5), ('thats', 5), ('three', 5), ('charging', 5), ('helpful', 5), ('hold', 5), ('sure', 5), ('turn', 5), ('priced', 5), ('sturdy', 5), ('different', 5), ('week', 5), ('feels', 5), ('arrived', 5), ('quickly', 5), ('expect', 5), ('definitely', 5), ('shipping', 5), ('pictures', 5), ('high', 5), ('strong', 5), ('pleased', 5), ('job', 5), ('weeks', 5), ('hours', 5), ('know', 5), ('kind', 5), ('charm', 5), ('awesome', 5), ('where', 5), ('minutes', 5), ('color', 5), ('part', 5), ('range', 5), ('disappointment', 5), ('important', 5), ('return', 5), ('hands', 5), ('feature', 5), ('many', 5), ('old', 5), ('anything', 5), ('couple', 5), ('disappointing', 5), ('belt', 5), ('data', 5), ('having', 5), ('others', 5), ('crap', 5), ('especially', 5), ('keep', 5), ('plastic', 5), ('clarity', 5), ('hard', 5), ('always', 5), ('none', 5), ('cannot', 5), ('samsung', 5), ('cases', 5), ('connection', 5), ('easily', 5), ('here', 4), ('mic', 4), ('decent', 4), ('sending', 4), ('must', 4), ('were', 4), ('clip', 4), ('blue', 4), ('place', 4), ('absolutely', 4), ('bars', 4), ('she', 4), ('instructions', 4), ('left', 4), ('hate', 4), ('kept', 4), ('performance', 4), ('seems', 4), ('should', 4), ('keyboard', 4), ('actually', 4), ('support', 4), ('player', 4), ('later', 4), ('purchased', 4), ('holds', 4), ('bargain', 4), ('order', 4), ('free', 4), ('leather', 4), ('fast', 4), ('comfortably', 4), ('bt', 4), ('tool', 4), ('obviously', 4), ('side', 4), ('lasts', 4), ('able', 4), ('lightweight', 4), ('id', 4), ('expected', 4), ('mistake', 4), ('worth', 4), ('earpiece', 4), ('either', 4), ('unreliable', 4), ('family', 4), ('seller', 4), ('plantronics', 4), ('buying', 4), ('weak', 4), ('lg', 4), ('sucks', 4), ('ago', 4), ('times', 4), ('easier', 4), ('face', 4), ('wanted', 4), ('deal', 4), ('satisfied', 4), ('comes', 4), ('another', 4), ('rather', 4), ('away', 4), ('nothing', 4), ('tmobile', 4), ('unfortunately', 4), ('those', 4), ('store', 4), ('replace', 4), ('own', 4), ('ringtones', 4), ('said', 4), ('day', 4), ('treo', 4), ('extra', 4), ('awful', 4), ('jawbone', 3), ('conversations', 3), ('line', 3), ('contacts', 3), ('static', 3), ('though', 3), ('who', 3), ('everyone', 3), ('pair', 3), ('yet', 3), ('below', 3), ('pocket', 3), ('pc', 3), ('provided', 3), ('included', 3), ('worthless', 3), ('features', 3), ('protection', 3), ('instead', 3), ('seconds', 3), ('perhaps', 3), ('seriously', 3), ('front', 3), ('trouble', 3), ('choice', 3), ('home', 3), ('beautiful', 3), ('longer', 3), ('packaged', 3), ('construction', 3), ('super', 3), ('ease', 3), ('plan', 3), ('decision', 3), ('match', 3), ('between', 3), ('fall', 3), ('such', 3), ('wife', 3), ('display', 3), ('rocks', 3), ('may', 3), ('setup', 3), ('earpieces', 3), ('set', 3), ('getting', 3), ('almost', 3), ('avoid', 3), ('earbud', 3), ('failed', 3), ('coverage', 3), ('drops', 3), ('area', 3), ('forever', 3), ('glad', 3), ('description', 3), ('s', 3), ('fantastic', 3), ('sharp', 3), ('chargers', 3), ('network', 3), ('slow', 3), ('once', 3), ('lost', 3), ('replacement', 3), ('extremely', 3), ('simply', 3), ('thought', 3), ('reasonably', 3), ('form', 3), ('experience', 3), ('theres', 3), ('ordered', 3), ('sony', 3), ('market', 3), ('comfort', 3), ('probably', 3), ('drain', 3), ('poorly', 3), ('charged', 3), ('scratched', 3), ('microphone', 3), ('care', 3), ('lacking', 3), ('uncomfortable', 3), ('plugged', 3), ('flip', 3), ('wireless', 3), ('happier', 3), ('ill', 3), ('try', 3), ('trying', 3), ('handsfree', 3), ('finally', 3), ('give', 3), ('goes', 3), ('dead', 3), ('overall', 3), ('might', 3), ('q', 3), ('size', 3), ('wasnt', 3), ('expensive', 3), ('turned', 3), ('computer', 3), ('under', 3), ('wont', 3), ('results', 3), ('noise', 3), ('given', 3), ('holster', 3), ('palm', 3), ('refund', 3), ('drop', 3), ('through', 3), ('speaker', 3), ('sprint', 3), ('feel', 3), ('needed', 3), ('usb', 3), ('plus', 3), ('pay', 3), ('tinny', 3), ('pairing', 3), ('iphone', 3), ('despite', 3), ('outlet', 3), ('cingular', 3), ('break', 3), ('beep', 3), ('us', 2), ('unless', 2), ('lasting', 2), ('wasted', 2), ('he', 2), ('extended', 2), ('notice', 2), ('tooth', 2), ('advise', 2), ('motorolas', 2), ('website', 2), ('fire', 2), ('run', 2), ('owned', 2), ('mobile', 2), ('pull', 2), ('unusable', 2), ('least', 2), ('book', 2), ('mp', 2), ('regarding', 2), ('returned', 2), ('turns', 2), ('pda', 2), ('large', 2), ('essentially', 2), ('forget', 2), ('tech', 2), ('particular', 2), ('party', 2), ('clearly', 2), ('cover', 2), ('let', 2), ('lock', 2), ('died', 2), ('glasses', 2), ('sometimes', 2), ('series', 2), ('quiet', 2), ('saying', 2), ('docking', 2), ('station', 2), ('advertised', 2), ('handy', 2), ('loves', 2), ('cheaper', 2), ('costs', 2), ('play', 2), ('music', 2), ('beware', 2), ('white', 2), ('huge', 2), ('flaw', 2), ('although', 2), ('impressive', 2), ('resolution', 2), ('ask', 2), ('slim', 2), ('sex', 2), ('sleek', 2), ('full', 2), ('number', 2), ('keypad', 2), ('unhappy', 2), ('done', 2), ('basically', 2), ('careful', 2), ('logitech', 2), ('stuff', 2), ('house', 2), ('recognition', 2), ('tremendous', 2), ('during', 2), ('experienced', 2), ('takes', 2), ('literally', 2), ('stated', 2), ('hoping', 2), ('blackberry', 2), ('sounds', 2), ('technology', 2), ('wouldnt', 2), ('wired', 2), ('previous', 2), ('wi', 2), ('superb', 2), ('maintain', 2), ('graphics', 2), ('button', 2), ('thank', 2), ('igo', 2), ('tips', 2), ('connected', 2), ('wifes', 2), ('storage', 2), ('buzzing', 2), ('override', 2), ('functionality', 2), ('incredible', 2), ('ring', 2), ('dropping', 2), ('thin', 2), ('nearly', 2), ('bother', 2), ('room', 2), ('issues', 2), ('felt', 2), ('embarrassing', 2), ('consumer', 2), ('background', 2), ('certainly', 2), ('usually', 2), ('mess', 2), ('bit', 2), ('tell', 2), ('excited', 2), ('additional', 2), ('gels', 2), ('whatsoever', 2), ('secure', 2), ('o', 2), ('appears', 2), ('smell', 2), ('caused', 2), ('flimsy', 2), ('month', 2), ('flawlessly', 2), ('stars', 2), ('whole', 2), ('adorable', 2), ('vi', 2), ('gotten', 2), ('driving', 2), ('dialing', 2), ('neither', 2), ('games', 2), ('ipod', 2), ('recharge', 2), ('save', 2), ('along', 2), ('starts', 2), ('ringing', 2), ('reason', 2), ('push', 2), ('sides', 2), ('skype', 2), ('shipped', 2), ('exactly', 2), ('waiting', 2), ('stupid', 2), ('noticed', 2), ('att', 2), ('breaks', 2), ('oh', 2), ('effect', 2), ('model', 2), ('warning', 2), ('dying', 2), ('alone', 2), ('install', 2), ('purchasing', 2), ('moto', 2), ('figure', 2), ('reading', 2), ('wearing', 2), ('sunglasses', 2), ('returning', 2), ('cumbersome', 2), ('vx', 2), ('switch', 2), ('worthwhile', 2), ('understand', 2), ('batteries', 2), ('user', 2), ('friendly', 2), ('ability', 2), ('receiving', 2), ('exchanged', 2), ('wrong', 2), ('described', 2), ('defective', 2), ('star', 2), ('review', 2), ('catching', 2), ('amazed', 2), ('timeframe', 2), ('complaint', 2), ('things', 2), ('ended', 2), ('accidentally', 2), ('listening', 2), ('took', 2), ('above', 2), ('conversation', 2), ('eargels', 2), ('seem', 2), ('numerous', 2), ('please', 2), ('barely', 2), ('joke', 2), ('forced', 2), ('holding', 2), ('breaking', 2), ('quick', 2), ('e', 2), ('operate', 2), ('paired', 2), ('come', 2), ('brand', 2), ('red', 2), ('reviews', 2), ('echo', 2), ('told', 2), ('warranty', 2), ('something', 2), ('bar', 2), ('placed', 2), ('spring', 2), ('tries', 2), ('download', 2), ('access', 2), ('third', 2), ('flash', 2), ('tones', 2), ('chinese', 2), ('crisp', 2), ('video', 2), ('hour', 2), ('accept', 2), ('allows', 2), ('power', 2), ('wall', 2), ('etc', 2), ('hand', 2), ('cut', 2), ('sizes', 2), ('next', 2), ('protector', 2), ('date', 2), ('sounded', 2), ('together', 2), ('feet', 2), ('send', 2), ('current', 2), ('says', 2), ('laptop', 2), ('inside', 2), ('normal', 2), ('making', 2), ('fails', 2), ('lose', 2), ('ok', 2), ('wow', 2), ('converter', 1), ('tied', 1), ('minutesmajor', 1), ('jiggle', 1), ('dozen', 1), ('hundred', 1), ('imagine', 1), ('fun', 1), ('each', 1), ('owneryou', 1), ('needless', 1), ('seperated', 1), ('mere', 1), ('ft', 1), ('excessive', 1), ('garbled', 1), ('odd', 1), ('fooled', 1), ('clicks', 1), ('wonder', 1), ('mechanism', 1), ('followed', 1), ('directions', 1), ('kindle', 1), ('loved', 1), ('commercials', 1), ('misleading', 1), ('mother', 1), ('combination', 1), ('earphone', 1), ('breakage', 1), ('unacceptible', 1), ('ideal', 1), ('whose', 1), ('sensitive', 1), ('moving', 1), ('freeway', 1), ('speed', 1), ('contract', 1), ('ac', 1), ('juicehighy', 1), ('recommended', 1), ('mins', 1), ('phonebattery', 1), ('short', 1), ('pics', 1), ('garbage', 1), ('mind', 1), ('gonna', 1), ('arguing', 1), ('bulky', 1), ('usable', 1), ('realworld', 1), ('useful', 1), ('machine', 1), ('neat', 1), ('gadget', 1), ('reasonable', 1), ('ie', 1), ('stream', 1), ('submerged', 1), ('complaints', 1), ('microsofts', 1), ('faceplates', 1), ('elegant', 1), ('angle', 1), ('drawback', 1), ('pause', 1), ('skip', 1), ('songs', 1), ('activated', 1), ('suddenly', 1), ('ipods', 1), ('situations', 1), ('bmw', 1), ('fairly', 1), ('hearing', 1), ('person', 1), ('dwrongly', 1), ('d', 1), ('everyday', 1), ('intended', 1), ('runs', 1), ('boy', 1), ('loads', 1), ('greater', 1), ('buds', 1), ('waaay', 1), ('bluetooths', 1), ('listener', 1), ('integrated', 1), ('seamlessly', 1), ('buyer', 1), ('flush', 1), ('toilet', 1), ('supposedly', 1), ('apparently', 1), ('prosgood', 1), ('styles', 1), ('correctly', 1), ('rated', 1), ('megapixels', 1), ('renders', 1), ('images', 1), ('expectations', 1), ('relatively', 1), ('purcashed', 1), ('geeky', 1), ('toast', 1), ('oozes', 1), ('embedded', 1), ('stylish', 1), ('compromise', 1), ('qwerty', 1), ('basic', 1), ('winner', 1), ('simpler', 1), ('iam', 1), ('disapoinment', 1), ('realize', 1), ('accompanied', 1), ('brilliant', 1), ('nicely', 1), ('damage', 1), ('definitly', 1), ('buyerbe', 1), ('majority', 1), ('peachykeen', 1), ('upstairs', 1), ('basement', 1), ('minute', 1), ('reccomendation', 1), ('relative', 1), ('items', 1), ('sudden', 1), ('linking', 1), ('curve', 1), ('funny', 1), ('seemed', 1), ('sketchy', 1), ('wellwell', 1), ('messages', 1), ('web', 1), ('browsing', 1), ('significantly', 1), ('faster', 1), ('build', 1), ('unlike', 1), ('colors', 1), ('whine', 1), ('goesthe', 1), ('communications', 1), ('communicate', 1), ('monkeys', 1), ('shouldnt', 1), ('share', 1), ('dna', 1), ('copy', 1), ('humans', 1), ('bougth', 1), ('lc', 1), ('mode', 1), ('wasting', 1), ('bethe', 1), ('file', 1), ('browser', 1), ('offers', 1), ('options', 1), ('needshandsfree', 1), ('bluetoothmotorola', 1), ('hs', 1), ('whether', 1), ('latest', 1), ('os', 1), ('vg', 1), ('likes', 1), ('crawl', 1), ('recognizes', 1), ('bluetoooth', 1), ('thorn', 1), ('abhor', 1), ('recently', 1), ('disconnected', 1), ('bucks', 1), ('check', 1), ('mail', 1), ('night', 1), ('backlight', 1), ('message', 1), ('toneoverall', 1), ('lately', 1), ('wit', 1), ('hit', 1), ('weight', 1), ('hardly', 1), ('youll', 1), ('pleather', 1), ('deaf', 1), ('prettier', 1), ('incredibly', 1), ('investment', 1), ('strange', 1), ('ticking', 1), ('noises', 1), ('ends', 1), ('electronics', 1), ('available', 1), ('fm', 1), ('transmitters', 1), ('h', 1), ('mega', 1), ('pixel', 1), ('transmit', 1), ('contacting', 1), ('dollar', 1), ('learned', 1), ('lesson', 1), ('online', 1), ('anyway', 1), ('earbugs', 1), ('means', 1), ('roam', 1), ('living', 1), ('receptionsound', 1), ('crack', 1), ('infatuated', 1), ('freezes', 1), ('frequently', 1), ('mostly', 1), ('childlike', 1), ('tick', 1), ('headbands', 1), ('hair', 1), ('ericsson', 1), ('favorite', 1), ('purchases', 1), ('authentic', 1), ('shine', 1), ('cute', 1), ('calendar', 1), ('sync', 1), ('defeats', 1), ('purpose', 1), ('penny', 1), ('wallet', 1), ('type', 1), ('excrutiatingly', 1), ('aspect', 1), ('glove', 1), ('durable', 1), ('gosh', 1), ('attractive', 1), ('factor', 1), ('rubberpetroleum', 1), ('unbearable', 1), ('scary', 1), ('stereo', 1), ('absolutel', 1), ('potentially', 1), ('fry', 1), ('giving', 1), ('gave', 1), ('reversible', 1), ('rotating', 1), ('our', 1), ('contstruct', 1), ('hinge', 1), ('installed', 1), ('overnite', 1), ('thru', 1), ('handset', 1), ('cat', 1), ('attacked', 1), ('protective', 1), ('strip', 1), ('destroying', 1), ('razor', 1), ('wise', 1), ('someone', 1), ('shouldve', 1), ('invented', 1), ('sooner', 1), ('trythe', 1), ('engineered', 1), ('clever', 1), ('complained', 1), ('tracfone', 1), ('instruction', 1), ('manual', 1), ('alarm', 1), ('clock', 1), ('removing', 1), ('antena', 1), ('compared', 1), ('compliments', 1), ('state', 1), ('allow', 1), ('usage', 1), ('immediately', 1), ('ngage', 1), ('earbuds', 1), ('howeverthe', 1), ('riingtones', 1), ('rip', 1), ('frequentyly', 1), ('adhesive', 1), ('inexpensive', 1), ('practically', 1), ('add', 1), ('boost', 1), ('concrete', 1), ('knock', 1), ('wood', 1), ('transformed', 1), ('organizational', 1), ('capability', 1), ('sitting', 1), ('vehicle', 1), ('cradle', 1), ('jerks', 1), ('los', 1), ('angeles', 1), ('starter', 1), ('loudspeaker', 1), ('option', 1), ('bumpers', 1), ('lights', 1), ('appealing', 1), ('improve', 1), ('leaks', 1), ('hot', 1), ('according', 1), ('called', 1), ('applifies', 1), ('specially', 1), ('transmission', 1), ('finished', 1), ('drivng', 1), ('auto', 1), ('reverse', 1), ('tape', 1), ('embarassing', 1), ('hurt', 1), ('protects', 1), ('average', 1), ('operates', 1), ('soyo', 1), ('self', 1), ('portraits', 1), ('outside', 1), ('exterior', 1), ('mentioned', 1), ('gadgets', 1), ('magical', 1), ('help', 1), ('promptly', 1), ('comparablypriced', 1), ('offering', 1), ('today', 1), ('encourage', 1), ('youd', 1), ('effective', 1), ('recieve', 1), ('prompt', 1), ('cradles', 1), ('kits', 1), ('excelent', 1), ('cingulair', 1), ('nicer', 1), ('era', 1), ('colored', 1), ('hoursthe', 1), ('thereplacement', 1), ('cheaply', 1), ('distorted', 1), ('yell', 1), ('forgot', 1), ('mention', 1), ('weird', 1), ('iriver', 1), ('spinn', 1), ('fond', 1), ('magnetic', 1), ('strap', 1), ('psyched', 1), ('appointments', 1), ('note', 1), ('appearance', 1), ('bland', 1), ('sanyo', 1), ('survived', 1), ('dozens', 1), ('blacktop', 1), ('earphones', 1), ('finds', 1), ('enter', 1), ('modest', 1), ('cellular', 1), ('wish', 1), ('awsome', 1), ('drained', 1), ('earpad', 1), ('onlyi', 1), ('displeased', 1), ('defect', 1), ('risk', 1), ('built', 1), ('restored', 1), ('jx', 1), ('searched', 1), ('key', 1), ('pad', 1), ('lit', 1), ('portable', 1), ('colleague', 1), ('receptiona', 1), ('fully', 1), ('bed', 1), ('wifi', 1), ('morning', 1), ('memory', 1), ('card', 1), ('hat', 1), ('timely', 1), ('shipment', 1), ('solid', 1), ('surefire', 1), ('gx', 1), ('buyers', 1), ('remorse', 1), ('accessoryone', 1), ('inexcusable', 1), ('changing', 1), ('carriers', 1), ('update', 1), ('procedure', 1), ('delivery', 1), ('env', 1), ('rocketed', 1), ('destination', 1), ('unknown', 1), ('longwearing', 1), ('conditions', 1), ('usefulness', 1), ('verizons', 1), ('bills', 1), ('pricing', 1), ('plans', 1), ('overnight', 1), ('regret', 1), ('pitiful', 1), ('respect', 1), ('stuck', 1), ('max', 1), ('mute', 1), ('hybrid', 1), ('palmtopcameracellphone', 1), ('excels', 1), ('roles', 1), ('btv', 1), ('liked', 1), ('bose', 1), ('cancelling', 1), ('amazing', 1), ('nyc', 1), ('commuter', 1), ('unacceptableunless', 1), ('photo', 1), ('ad', 1), ('greatno', 1), ('earlier', 1), ('noted', 1), ('happens', 1), ('frog', 1), ('eye', 1), ('pushed', 1), ('function', 1), ('aluminum', 1), ('wellit', 1), ('protected', 1), ('handheld', 1), ('tools', 1), ('sturdiness', 1), ('orders', 1), ('source', 1), ('waterproof', 1), ('standard', 1), ('thanks', 1), ('sliding', 1), ('edge', 1), ('pants', 1), ('pockets', 1), ('ugly', 1), ('shield', 1), ('incrediable', 1), ('improvement', 1), ('refuse', 1), ('activate', 1), ('gentletouch', 1), ('touch', 1), ('threw', 1), ('window', 1), ('inches', 1), ('kitchen', 1), ('counter', 1), ('crackedi', 1), ('laughing', 1), ('trunk', 1), ('carried', 1), ('hitch', 1), ('practical', 1), ('ample', 1), ('channel', 1), ('directly', 1), ('increase', 1), ('ones', 1), ('properly', 1), ('missed', 1), ('sucked', 1), ('shifting', 1), ('bubbling', 1), ('peeling', 1), ('scratch', 1), ('nothingi', 1), ('droid', 1), ('zero', 1), ('exercise', 1), ('frustration', 1), ('earset', 1), ('outgoing', 1), ('total', 1), ('package', 1), ('understanding', 1), ('patient', 1), ('wirefly', 1), ('stari', 1), ('contact', 1), ('cingularatt', 1), ('inform', 1), ('practice', 1), ('aggravating', 1), ('friends', 1), ('enjoy', 1), ('virgin', 1), ('muddy', 1), ('casing', 1), ('wires', 1), ('insert', 1), ('glued', 1), ('slid', 1), ('isnt', 1), ('plantronincs', 1), ('continues', 1), ('flawed', 1), ('disapointing', 1), ('fourth', 1), ('hated', 1), ('fixes', 1), ('accessing', 1), ('downloading', 1), ('performing', 1), ('functions', 1), ('constantly', 1), ('unacceptable', 1), ('due', 1), ('happening', 1), ('stop', 1), ('adapters', 1), ('walked', 1), ('procedures', 1), ('reset', 1), ('wiping', 1), ('strength', 1), ('plays', 1), ('louder', 1), ('constructed', 1), ('menus', 1), ('navigate', 1), ('recessed', 1), ('onid', 1), ('avoiding', 1), ('brokeni', 1), ('smoking', 1), ('linked', 1), ('effort', 1), ('possesed', 1), ('idea', 1), ('trash', 1), ('research', 1), ('development', 1), ('division', 1), ('knows', 1), ('theyre', 1), ('doing', 1), ('killer', 1), ('course', 1), ('infuriating', 1), ('walkman', 1), ('charges', 1), ('europe', 1), ('asia', 1), ('clipping', 1), ('deffinitely', 1), ('cents', 1), ('upandcoming', 1), ('behing', 1), ('comfortible', 1), ('pain', 1), ('arrival', 1), ('fraction', 1), ('samsungcrap', 1), ('crappy', 1), ('seeen', 1), ('stopped', 1), ('screenthis', 1), ('interface', 1), ('decade', 1), ('compete', 1), ('designs', 1), ('w', 1), ('transceiver', 1), ('steer', 1), ('genuine', 1), ('replacementr', 1), ('pens', 1), ('threepack', 1), ('buyit', 1), ('beats', 1), ('fingers', 1), ('believe', 1), ('steep', 1), ('point', 1), ('normally', 1), ('apart', 1), ('haul', 1), ('dissapointing', 1), ('originally', 1), ('discarded', 1), ('phonesmp', 1), ('players', 1), ('posted', 1), ('detailed', 1), ('comments', 1), ('grey', 1), ('guess', 1), ('existing', 1), ('cds', 1), ('surprised', 1), ('fabulous', 1), ('currently', 1), ('firstperson', 1), ('shooters', 1), ('delay', 1), ('messes', 1), ('bitpim', 1), ('program', 1), ('internetto', 1), ('transfer', 1), ('phonethe', 1), ('accessory', 1), ('manufacturer', 1), ('performed', 1), ('muffled', 1), ('incoming', 1), ('severe', 1), ('windresistant', 1), ('overly', 1), ('replaceeasy', 1), ('contacted', 1), ('produce', 1), ('receipt', 1), ('luck', 1), ('linksys', 1), ('exchange', 1), ('refurb', 1), ('snug', 1), ('heavyit', 1), ('keeps', 1), ('falling', 1), ('utter', 1), ('promised', 1), ('loop', 1), ('tiny', 1), ('four', 1), ('latch', 1), ('visor', 1), ('address', 1), ('rebootsoverall', 1), ('rate', 1), ('tungsten', 1), ('flipphones', 1), ('welldesigned', 1), ('smoothly', 1), ('study', 1), ('interested', 1), ('sins', 1), ('industrial', 1), ('happened', 1), ('tracking', 1), ('detachable', 1), ('continue', 1), ('periodically', 1), ('somehow', 1), ('upload', 1), ('locks', 1), ('screens', 1), ('randomly', 1), ('locked', 1), ('truly', 1), ('cellphone', 1), ('wornout', 1), ('ringer', 1), ('choices', 1), ('acceptable', 1), ('balance', 1), ('ready', 1), ('prime', 1), ('coming', 1), ('upbeat', 1), ('forgeries', 1), ('abound', 1), ('explain', 1), ('jack', 1), ('ca', 1), ('smallest', 1), ('stays', 1), ('biggest', 1), ('drains', 1), ('superfast', 1), ('ergonomic', 1), ('theory', 1), ('stand', 1), ('clips', 1), ('occupied', 1), ('distracting', 1), ('entire', 1), ('except', 1), ('cbr', 1), ('mps', 1), ('preferably', 1), ('ripped', 1), ('windows', 1), ('media', 1), ('beat', 1), ('shots', 1), ('sos', 1), ('signals', 1), ('connect', 1), ('miniusb', 1), ('near', 1), ('open', 1), ('allowing', 1), ('startac', 1), ('regretted', 1), ('outperform', 1), ('china', 1), ('numbers', 1), ('sim', 1), ('phonemy', 1), ('r', 1), ('crashed', 1), ('replaced', 1), ('quit', 1), ('connecting', 1), ('multiple', 1), ('sources', 1), ('imac', 1), ('external', 1), ('elsewhere', 1), ('bells', 1), ('whistles', 1), ('mediocre', 1), ('via', 1), ('slide', 1), ('grip', 1), ('prevents', 1), ('slipping', 1), ('onethis', 1), ('span', 1), ('exclaim', 1), ('whoa', 1), ('tv', 1), ('corded', 1), ('freedom', 1), ('passed', 1), ('mark', 1), ('shows', 1), ('signs', 1), ('functional', 1), ('soft', 1), ('tight', 1), ('shape', 1), ('copier', 1), ('sent', 1), ('anywhere', 1), ('sold', 1), ('units', 1), ('pros', 1), ('provides', 1), ('classy', 1), ('krussel', 1), ('tracfonewebsite', 1), ('toactivate', 1), ('texas', 1), ('dit', 1), ('mainly', 1), ('soon', 1), ('whatever', 1), ('blueant', 1), ('supertooth', 1), ('metro', 1), ('pcs', 1), ('schr', 1), ('slider', 1), ('premium', 1), ('plugs', 1), ('plenty', 1), ('capacity', 1), ('confortable', 1), ('somewhat', 1), ('periods', 1), ('ant', 1), ('hey', 1), ('pleasantly', 1), ('suprised', 1), ('cost', 1), ('dustpan', 1), ('indoors', 1), ('disposable', 1), ('puff', 1), ('smoke', 1), ('convenient', 1), ('ride', 1), ('smoother', 1), ('nano', 1), ('itmy', 1), ('son', 1), ('dissapointed', 1), ('reccommend', 1), ('carries', 1), ('highest', 1), ('antiglare', 1), ('smartphone', 1), ('atleast', 1), ('addition', 1), ('amp', 1), ('reoccurebottom', 1), ('somewhere', 1), ('else', 1), ('methe', 1), ('creaks', 1), ('wooden', 1), ('floor', 1), ('apartment', 1), ('generally', 1), ('inconspicuous', 1), ('boot', 1), ('slowly', 1), ('sorry', 1), ('impossible', 1), ('refused', 1), ('upgrade', 1), ('discount', 1), ('securly', 1), ('possibility', 1), ('double', 1), ('booking', 1), ('entertainment', 1), ('communication', 1), ('managementoh', 1), ('activesync', 1), ('optimal', 1), ('synchronization', 1), ('disgusting', 1), ('coupon', 1), ('rare', 1), ('instance', 1), ('perfect', 1), ('ps', 1), ('five', 1), ('cheapy', 1), ('lots', 1), ('talking', 1), ('shouting', 1), ('telephone', 1), ('wind', 1), ('yes', 1), ('shiny', 1), ('grtting', 1), ('until', 1), ('vc', 1), ('thumbs', 1), ('exceeds', 1), ('sight', 1), ('improper', 1), ('chargelife', 1), ('checked', 1), ('everywhere', 1), ('ordering', 1), ('effects', 1), ('palms', 1), ('awkward', 1), ('hoped', 1), ('father', 1), ('v', 1), ('pads', 1), ('stops', 1), ('intermittently', 1), ('reaching', 1), ('bottom', 1), ('row', 1), ('keys', 1), ('nightmare', 1), ('describe', 1), ('speakerphone', 1), ('cassette', 1), ('cellphones', 1), ('planning', 1), ('dirty', 1), ('autoanswer', 1), ('read', 1), ('havent', 1), ('products', 1), ('sensor', 1), ('reliability', 1), ('beeping', 1), ('letting', 1), ('dieing', 1), ('ir', 1), ('yearsgreat', 1), ('cancellation', 1), ('counterfeit', 1), ('see', 1), ('travled', 1), ('swivel', 1), ('sister', 1), ('dualpurpose', 1), ('keeping', 1), ('bottowm', 1), ('lineanother', 1), ('gimmick', 1), ('opens', 1), ('broken', 1), ('top', 1), ('causing', 1), ('discomfort', 1), ('trust', 1), ('loudglad', 1), ('maintains', 1), ('flawless', 1), ('wrongfirst', 1), ('devices', 1), ('utterly', 1), ('confusing', 1), ('holder', 1), ('cutouts', 1), ('landline', 1), ('loops', 1), ('material', 1), ('flaws', 1), ('exceptional', 1), ('owning', 1), ('official', 1), ('oem', 1), ('loudest', 1), ('setting', 1), ('competitors', 1), ('show', 1), ('saved', 1), ('alot', 1), ('cuts', 1), ('totally', 1), ('unintelligible', 1), ('word', 1), ('restart', 1), ('managed', 1), ('bend', 1), ('leaf', 1), ('metal', 1), ('stress', 1), ('leopard', 1), ('print', 1), ('wonderfully', 1), ('wild', 1), ('saggy', 1), ('floppy', 1), ('looses', 1), ('abovepretty', 1), ('soundwise', 1), ('snap', 1), ('carry', 1), ('fliptop', 1), ('loose', 1), ('wobbly', 1), ('eventually', 1), ('receive', 1), ('seat', 1), ('fulfills', 1), ('requirements', 1), ('fact', 1), ('rests', 1), ('lightly', 1), ('against', 1), ('websites', 1), ('rating', 1), ('cables', 1), ('lap', 1), ('controls', 1), ('accessable', 1), ('mine', 1), ('christmas', 1), ('rest', 1), ('otherwise', 1), ('joy', 1), ('satisifed', 1), ('sa', 1), ('specs', 1), ('armband', 1), ('allot', 1), ('clearer', 1), ('keypads', 1), ('reach', 1), ('ericson', 1), ('za', 1), ('motor', 1), ('control', 1), ('center', 1), ('voltage', 1), ('humming', 1), ('equipment', 1), ('certain', 1), ('places', 1), ('girl', 1), ('complain', 1), ('wake', 1), ('styling', 1), ('restocking', 1), ('fee', 1), ('darn', 1), ('lousy', 1), ('seen', 1), ('sweetest', 1), ('securely', 1), ('hook', 1), ('directed', 1), ('canal', 1), ('problemvery', 1), ('unsatisfactory', 1), ('videos', 1), ('negatively', 1), ('adapter', 1), ('provide', 1), ('hype', 1), ('assumed', 1), ('lense', 1), ('covered', 1), ('falls', 1), ('text', 1), ('messaging', 1), ('tricky', 1), ('painful', 1), ('lasted', 1), ('blew', 1), ('flops', 1), ('smudged', 1), ('touches', 1), ('disappoint', 1), ('infra', 1), ('port', 1), ('irda', 1), ('answer', 1)]\n"
     ]
    }
   ],
   "source": [
    "words = [ \n",
    "    word \n",
    "    for line in data[\"Sentence\"] \n",
    "    for word in line.split(\" \") if word != \"\"\n",
    "]\n",
    "word_counts = {}\n",
    "for line in data[\"Sentence\"]:\n",
    "    for word in line.split(\" \") :\n",
    "        if word == \"\":\n",
    "            continue\n",
    "        if word in word_counts:\n",
    "            word_counts[word] += 1\n",
    "        else:\n",
    "            word_counts[word] = 1\n",
    "    \n",
    "unique_words = set(words)\n",
    "print(f\"Sentences: {len(data)}\")\n",
    "print(f\"Words: {len(words)}\")\n",
    "print(f\"Unique Words: {len(unique_words)}\")\n",
    "print(sorted(word_counts.items(), key=lambda item: -item[1]))"
   ]
  },
  {
   "cell_type": "code",
   "execution_count": 45,
   "metadata": {},
   "outputs": [
    {
     "name": "stdout",
     "output_type": "stream",
     "text": [
      "900\n",
      "100\n",
      "['__class__',\n",
      " '__delattr__',\n",
      " '__dict__',\n",
      " '__dir__',\n",
      " '__doc__',\n",
      " '__eq__',\n",
      " '__format__',\n",
      " '__ge__',\n",
      " '__getattribute__',\n",
      " '__getstate__',\n",
      " '__gt__',\n",
      " '__hash__',\n",
      " '__init__',\n",
      " '__init_subclass__',\n",
      " '__le__',\n",
      " '__lt__',\n",
      " '__module__',\n",
      " '__ne__',\n",
      " '__new__',\n",
      " '__reduce__',\n",
      " '__reduce_ex__',\n",
      " '__repr__',\n",
      " '__setattr__',\n",
      " '__setstate__',\n",
      " '__sizeof__',\n",
      " '__str__',\n",
      " '__subclasshook__',\n",
      " '__weakref__',\n",
      " '_char_ngrams',\n",
      " '_char_wb_ngrams',\n",
      " '_check_params',\n",
      " '_check_stop_words_consistency',\n",
      " '_check_vocabulary',\n",
      " '_count_vocab',\n",
      " '_get_param_names',\n",
      " '_get_tags',\n",
      " '_limit_features',\n",
      " '_more_tags',\n",
      " '_sort_features',\n",
      " '_stop_words_id',\n",
      " '_tfidf',\n",
      " '_validate_custom_analyzer',\n",
      " '_validate_params',\n",
      " '_validate_vocabulary',\n",
      " '_white_spaces',\n",
      " '_word_ngrams',\n",
      " 'analyzer',\n",
      " 'binary',\n",
      " 'build_analyzer',\n",
      " 'build_preprocessor',\n",
      " 'build_tokenizer',\n",
      " 'decode',\n",
      " 'decode_error',\n",
      " 'dtype',\n",
      " 'encoding',\n",
      " 'fit',\n",
      " 'fit_transform',\n",
      " 'fixed_vocabulary_',\n",
      " 'get_feature_names',\n",
      " 'get_params',\n",
      " 'get_stop_words',\n",
      " 'idf_',\n",
      " 'input',\n",
      " 'inverse_transform',\n",
      " 'lowercase',\n",
      " 'max_df',\n",
      " 'max_features',\n",
      " 'min_df',\n",
      " 'ngram_range',\n",
      " 'norm',\n",
      " 'preprocessor',\n",
      " 'set_params',\n",
      " 'smooth_idf',\n",
      " 'stop_words',\n",
      " 'stop_words_',\n",
      " 'strip_accents',\n",
      " 'sublinear_tf',\n",
      " 'token_pattern',\n",
      " 'tokenizer',\n",
      " 'transform',\n",
      " 'use_idf',\n",
      " 'vocabulary',\n",
      " 'vocabulary_']\n",
      "set()\n"
     ]
    }
   ],
   "source": [
    "print(len(training_data))\n",
    "print(len(validation_data))\n",
    "pprint(dir(word_vectorizer))\n",
    "pprint(word_vectorizer.stop_words_)"
   ]
  },
  {
   "cell_type": "markdown",
   "metadata": {},
   "source": [
    "# Build RNN"
   ]
  },
  {
   "cell_type": "code",
   "execution_count": 53,
   "metadata": {},
   "outputs": [],
   "source": [
    "class RNN(nn.Module):\n",
    "    def __init__(self, input_dim, embedding_dim, hidden_dim, output_dim):\n",
    "        super().__init__()\n",
    "        self.embedding = nn.Embedding(input_dim, embedding_dim)\n",
    "        self.rnn = nn.RNN(embedding_dim, hidden_dim)\n",
    "        self.fc = nn.Linear(hidden_dim, output_dim)\n",
    "        \n",
    "    def forward(self, text):\n",
    "        #text = [sent len, batch size]\n",
    "        embedded = self.embedding(text)\n",
    "        #embedded = [sent len, batch size, emb dim]\n",
    "        output, hidden = self.rnn(embedded)\n",
    "        #output = [sent len, batch size, hid dim]\n",
    "        #hidden = [1, batch size, hid dim]\n",
    "        assert torch.equal(output[-1,:,:], hidden.squeeze(0))\n",
    "        \n",
    "        return self.fc(hidden.squeeze(0))"
   ]
  },
  {
   "cell_type": "code",
   "execution_count": 55,
   "metadata": {},
   "outputs": [],
   "source": [
    "model = RNN(input_dim=vocab_size, embedding_dim=100, hidden_dim=256, output_dim=1)"
   ]
  },
  {
   "cell_type": "code",
   "execution_count": 60,
   "metadata": {},
   "outputs": [
    {
     "name": "stdout",
     "output_type": "stream",
     "text": [
      "There are 822,405 trainable parameters in the model\n"
     ]
    }
   ],
   "source": [
    "def count_parameters(model):\n",
    "    return sum(p.numel() for p in model.parameters() if p.requires_grad)\n",
    "\n",
    "print(f\"There are {count_parameters(model):,} trainable parameters in the model\")"
   ]
  },
  {
   "cell_type": "code",
   "execution_count": 62,
   "metadata": {},
   "outputs": [],
   "source": [
    "optimizer = torch.optim.SGD(model.parameters(), lr=1e-3)\n",
    "criterion = nn.BCEWithLogitsLoss()"
   ]
  },
  {
   "cell_type": "code",
   "execution_count": 63,
   "metadata": {},
   "outputs": [],
   "source": [
    "def binary_accuracy(preds, y):\n",
    "    \"\"\"\n",
    "    Returns accuracy per batch, i.e. if you get 8/10 right, this returns 0.8, NOT 8\n",
    "    \"\"\"\n",
    "\n",
    "    #round predictions to the closest integer\n",
    "    rounded_preds = torch.round(torch.sigmoid(preds))\n",
    "    correct = (rounded_preds == y).float() #convert into float for division \n",
    "    acc = correct.sum() / len(correct)\n",
    "    return acc"
   ]
  },
  {
   "cell_type": "code",
   "execution_count": null,
   "metadata": {},
   "outputs": [],
   "source": []
  }
 ],
 "metadata": {
  "colab": {
   "collapsed_sections": [],
   "include_colab_link": true,
   "name": "Trainer.ipynb",
   "provenance": []
  },
  "kernelspec": {
   "display_name": "Python 3",
   "language": "python",
   "name": "python3"
  },
  "language_info": {
   "codemirror_mode": {
    "name": "ipython",
    "version": 3
   },
   "file_extension": ".py",
   "mimetype": "text/x-python",
   "name": "python",
   "nbconvert_exporter": "python",
   "pygments_lexer": "ipython3",
   "version": "3.6.8"
  }
 },
 "nbformat": 4,
 "nbformat_minor": 1
}
