{
  "nbformat": 4,
  "nbformat_minor": 0,
  "metadata": {
    "colab": {
      "name": "Trainer.ipynb",
      "provenance": [],
      "collapsed_sections": [],
      "include_colab_link": true
    },
    "kernelspec": {
      "name": "python3",
      "display_name": "Python 3"
    }
  },
  "cells": [
    {
      "cell_type": "markdown",
      "metadata": {
        "id": "view-in-github",
        "colab_type": "text"
      },
      "source": [
        "<a href=\"https://colab.research.google.com/github/JRasmusBm/chatbot-epsilon/blob/master/Trainer.ipynb\" target=\"_parent\"><img src=\"https://colab.research.google.com/assets/colab-badge.svg\" alt=\"Open In Colab\"/></a>"
      ]
    },
    {
      "cell_type": "markdown",
      "metadata": {
        "id": "KeH8Jy3iGkzs",
        "colab_type": "text"
      },
      "source": [
        "# This is the file in which we perform training of the NN"
      ]
    },
    {
      "cell_type": "code",
      "metadata": {
        "id": "BbNL54YkGZ5G",
        "colab_type": "code",
        "colab": {}
      },
      "source": [
        "def perform_training():\n",
        "  for i in range(100):\n",
        "    print(f\"Progress: {i} / 100...\")\n",
        "  print(f\"Training Complete!!\")"
      ],
      "execution_count": 0,
      "outputs": []
    },
    {
      "cell_type": "code",
      "metadata": {
        "id": "IDQaPjEiHmvS",
        "colab_type": "code",
        "outputId": "40b9cf2a-3479-49d0-bba5-32b3f7f34def",
        "colab": {
          "base_uri": "https://localhost:8080/",
          "height": 1000
        }
      },
      "source": [
        "perform_training()"
      ],
      "execution_count": 2,
      "outputs": [
        {
          "output_type": "stream",
          "text": [
            "Progress: 0 / 100...\n",
            "Progress: 1 / 100...\n",
            "Progress: 2 / 100...\n",
            "Progress: 3 / 100...\n",
            "Progress: 4 / 100...\n",
            "Progress: 5 / 100...\n",
            "Progress: 6 / 100...\n",
            "Progress: 7 / 100...\n",
            "Progress: 8 / 100...\n",
            "Progress: 9 / 100...\n",
            "Progress: 10 / 100...\n",
            "Progress: 11 / 100...\n",
            "Progress: 12 / 100...\n",
            "Progress: 13 / 100...\n",
            "Progress: 14 / 100...\n",
            "Progress: 15 / 100...\n",
            "Progress: 16 / 100...\n",
            "Progress: 17 / 100...\n",
            "Progress: 18 / 100...\n",
            "Progress: 19 / 100...\n",
            "Progress: 20 / 100...\n",
            "Progress: 21 / 100...\n",
            "Progress: 22 / 100...\n",
            "Progress: 23 / 100...\n",
            "Progress: 24 / 100...\n",
            "Progress: 25 / 100...\n",
            "Progress: 26 / 100...\n",
            "Progress: 27 / 100...\n",
            "Progress: 28 / 100...\n",
            "Progress: 29 / 100...\n",
            "Progress: 30 / 100...\n",
            "Progress: 31 / 100...\n",
            "Progress: 32 / 100...\n",
            "Progress: 33 / 100...\n",
            "Progress: 34 / 100...\n",
            "Progress: 35 / 100...\n",
            "Progress: 36 / 100...\n",
            "Progress: 37 / 100...\n",
            "Progress: 38 / 100...\n",
            "Progress: 39 / 100...\n",
            "Progress: 40 / 100...\n",
            "Progress: 41 / 100...\n",
            "Progress: 42 / 100...\n",
            "Progress: 43 / 100...\n",
            "Progress: 44 / 100...\n",
            "Progress: 45 / 100...\n",
            "Progress: 46 / 100...\n",
            "Progress: 47 / 100...\n",
            "Progress: 48 / 100...\n",
            "Progress: 49 / 100...\n",
            "Progress: 50 / 100...\n",
            "Progress: 51 / 100...\n",
            "Progress: 52 / 100...\n",
            "Progress: 53 / 100...\n",
            "Progress: 54 / 100...\n",
            "Progress: 55 / 100...\n",
            "Progress: 56 / 100...\n",
            "Progress: 57 / 100...\n",
            "Progress: 58 / 100...\n",
            "Progress: 59 / 100...\n",
            "Progress: 60 / 100...\n",
            "Progress: 61 / 100...\n",
            "Progress: 62 / 100...\n",
            "Progress: 63 / 100...\n",
            "Progress: 64 / 100...\n",
            "Progress: 65 / 100...\n",
            "Progress: 66 / 100...\n",
            "Progress: 67 / 100...\n",
            "Progress: 68 / 100...\n",
            "Progress: 69 / 100...\n",
            "Progress: 70 / 100...\n",
            "Progress: 71 / 100...\n",
            "Progress: 72 / 100...\n",
            "Progress: 73 / 100...\n",
            "Progress: 74 / 100...\n",
            "Progress: 75 / 100...\n",
            "Progress: 76 / 100...\n",
            "Progress: 77 / 100...\n",
            "Progress: 78 / 100...\n",
            "Progress: 79 / 100...\n",
            "Progress: 80 / 100...\n",
            "Progress: 81 / 100...\n",
            "Progress: 82 / 100...\n",
            "Progress: 83 / 100...\n",
            "Progress: 84 / 100...\n",
            "Progress: 85 / 100...\n",
            "Progress: 86 / 100...\n",
            "Progress: 87 / 100...\n",
            "Progress: 88 / 100...\n",
            "Progress: 89 / 100...\n",
            "Progress: 90 / 100...\n",
            "Progress: 91 / 100...\n",
            "Progress: 92 / 100...\n",
            "Progress: 93 / 100...\n",
            "Progress: 94 / 100...\n",
            "Progress: 95 / 100...\n",
            "Progress: 96 / 100...\n",
            "Progress: 97 / 100...\n",
            "Progress: 98 / 100...\n",
            "Progress: 99 / 100...\n",
            "Training Complete!!\n"
          ],
          "name": "stdout"
        }
      ]
    }
  ]
}